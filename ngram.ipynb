{
  "nbformat": 4,
  "nbformat_minor": 0,
  "metadata": {
    "colab": {
      "provenance": [],
      "authorship_tag": "ABX9TyNC7xMHZxOzhfwR3cE58pDL",
      "include_colab_link": true
    },
    "kernelspec": {
      "name": "python3",
      "display_name": "Python 3"
    },
    "language_info": {
      "name": "python"
    }
  },
  "cells": [
    {
      "cell_type": "markdown",
      "metadata": {
        "id": "view-in-github",
        "colab_type": "text"
      },
      "source": [
        "<a href=\"https://colab.research.google.com/github/adnanagbaria/LLMs/blob/main/ngram.ipynb\" target=\"_parent\"><img src=\"https://colab.research.google.com/assets/colab-badge.svg\" alt=\"Open In Colab\"/></a>"
      ]
    },
    {
      "cell_type": "markdown",
      "source": [
        "An n-gram is a contiguous sequence of $n$ items (usually words) from a given text."
      ],
      "metadata": {
        "id": "AlXi_g9x6gss"
      }
    },
    {
      "cell_type": "code",
      "source": [
        "# prompt: I want to build n-gram model\n",
        "\n",
        "# N-gram models predict the next word in a sequence based on the previous n-1 words.\n",
        "# This is a basic implementation focusing on building n-gram counts.\n",
        "\n",
        "from collections import defaultdict\n",
        "\n",
        "def generate_ngrams(text, n):\n",
        "  \"\"\"\n",
        "  Generates n-grams and their counts from a given text.\n",
        "\n",
        "  Args:\n",
        "    text: The input text as a string.\n",
        "    n: The size of the n-grams (e.g., 2 for bigrams, 3 for trigrams).\n",
        "\n",
        "  Returns:\n",
        "    A defaultdict where keys are tuples representing n-grams\n",
        "    and values are their counts.\n",
        "  \"\"\"\n",
        "  words = text.lower().split()\n",
        "  ngrams = defaultdict(int)\n",
        "  for i in range(len(words) - n + 1):\n",
        "    ngram = tuple(words[i:i + n])\n",
        "    ngrams[ngram] += 1\n",
        "  return ngrams\n",
        "\n",
        "# Example Usage:\n",
        "text = \"This is a simple example of building an n-gram model.\"\n",
        "n = 2  # Build bigrams\n",
        "\n",
        "ngram_counts = generate_ngrams(text, n)\n",
        "\n",
        "print(f\"{n}-gram counts:\")\n",
        "for ngram, count in ngram_counts.items():\n",
        "  print(f\"{ngram}: {count}\")\n",
        "\n",
        "n = 3 # Build trigrams\n",
        "\n",
        "ngram_counts = generate_ngrams(text, n)\n",
        "\n",
        "print(f\"\\n{n}-gram counts:\")\n",
        "for ngram, count in ngram_counts.items():\n",
        "  print(f\"{ngram}: {count}\")\n"
      ],
      "metadata": {
        "id": "4QwsvbsQq0aA",
        "outputId": "b80c5513-8261-4c43-b018-193be36eada3",
        "colab": {
          "base_uri": "https://localhost:8080/"
        }
      },
      "execution_count": 2,
      "outputs": [
        {
          "output_type": "stream",
          "name": "stdout",
          "text": [
            "2-gram counts:\n",
            "('this', 'is'): 1\n",
            "('is', 'a'): 1\n",
            "('a', 'simple'): 1\n",
            "('simple', 'example'): 1\n",
            "('example', 'of'): 1\n",
            "('of', 'building'): 1\n",
            "('building', 'an'): 1\n",
            "('an', 'n-gram'): 1\n",
            "('n-gram', 'model.'): 1\n",
            "\n",
            "3-gram counts:\n",
            "('this', 'is', 'a'): 1\n",
            "('is', 'a', 'simple'): 1\n",
            "('a', 'simple', 'example'): 1\n",
            "('simple', 'example', 'of'): 1\n",
            "('example', 'of', 'building'): 1\n",
            "('of', 'building', 'an'): 1\n",
            "('building', 'an', 'n-gram'): 1\n",
            "('an', 'n-gram', 'model.'): 1\n"
          ]
        }
      ]
    }
  ]
}